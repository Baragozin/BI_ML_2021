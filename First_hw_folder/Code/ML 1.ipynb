{
 "cells": [
  {
   "cell_type": "code",
   "execution_count": 1,
   "id": "spread-istanbul",
   "metadata": {},
   "outputs": [],
   "source": [
    "import time\n",
    "import matplotlib.pyplot as plt\n",
    "import seaborn as sns\n",
    "import numpy as np\n",
    "import random\n",
    "import pandas as pd\n",
    "\n",
    "\n",
    "from sklearn.datasets import fetch_openml\n",
    "from sklearn.model_selection import train_test_split\n",
    "from knn import KNNClassifier\n",
    "from metrics import binary_classification_metrics, multiclass_accuracy"
   ]
  },
  {
   "cell_type": "code",
   "execution_count": 2,
   "id": "equal-updating",
   "metadata": {},
   "outputs": [],
   "source": [
    "plt.rcParams[\"figure.figsize\"] = 12, 9\n",
    "sns.set_style(\"whitegrid\")\n",
    "\n",
    "SEED = 111\n",
    "random.seed(SEED)\n",
    "np.random.seed(SEED)"
   ]
  },
  {
   "cell_type": "code",
   "execution_count": 3,
   "id": "fuzzy-overview",
   "metadata": {},
   "outputs": [],
   "source": [
    "X, y = fetch_openml(name=\"Fashion-MNIST\", return_X_y=True, as_frame=False)"
   ]
  },
  {
   "cell_type": "code",
   "execution_count": 4,
   "id": "advanced-pricing",
   "metadata": {},
   "outputs": [],
   "source": [
    "idx_to_stay = np.random.choice(np.arange(X.shape[0]), replace=False, size=1000)\n",
    "X = X[idx_to_stay]\n",
    "y = y[idx_to_stay]"
   ]
  },
  {
   "cell_type": "code",
   "execution_count": 82,
   "id": "incident-formula",
   "metadata": {},
   "outputs": [
    {
     "data": {
      "image/png": "[encoded data removed]",
      "text/plain": [
       "<Figure size 864x648 with 1 Axes>"
      ]
     },
     "metadata": {},
     "output_type": "display_data"
    }
   ],
   "source": [
    "image = X[np.random.choice(np.arange(X.shape[0]))].reshape(28, 28, 1)\n",
    "plt.imshow(image)\n",
    "plt.axis(\"off\");"
   ]
  },
  {
   "cell_type": "markdown",
   "id": "reserved-vocabulary",
   "metadata": {},
   "source": [
    "Разведочный анализ"
   ]
  },
  {
   "cell_type": "code",
   "execution_count": 70,
   "id": "exterior-match",
   "metadata": {},
   "outputs": [
    {
     "data": {
      "text/plain": [
       "(array(['0', '1', '2', '3', '4', '5', '6', '7', '8', '9'], dtype=object),\n",
       " array([ 93, 102,  95, 121,  96,  98, 101,  79, 109, 106], dtype=int64))"
      ]
     },
     "execution_count": 70,
     "metadata": {},
     "output_type": "execute_result"
    }
   ],
   "source": [
    "EDA = np.unique(y, return_counts=True)"
   ]
  },
  {
   "cell_type": "markdown",
   "id": "duplicate-judgment",
   "metadata": {},
   "source": [
    "Деление данных на train и test"
   ]
  },
  {
   "cell_type": "code",
   "execution_count": 78,
   "id": "parallel-improvement",
   "metadata": {},
   "outputs": [],
   "source": [
    "X_train, X_test, y_train, y_test = train_test_split(X, y, \n",
    "                                                    train_size=0.8, \n",
    "                                                    random_state=42,\n",
    "                                                    stratify=y)"
   ]
  },
  {
   "cell_type": "code",
   "execution_count": null,
   "id": "genetic-stone",
   "metadata": {},
   "outputs": [],
   "source": [
    "knn_classifier = KNNClassifier(k=1)\n",
    "knn_classifier.fit(binary_train_X, binary_train_y)"
   ]
  },
  {
   "cell_type": "code",
   "execution_count": null,
   "id": "accepted-peeing",
   "metadata": {},
   "outputs": [],
   "source": [
    "def compute_distances_two_loops(self, X):\n",
    "    num_test = X.shape[0]\n",
    "    num_train = self.X_train.shape[0]\n",
    "    dists = np.zeros((num_test, num_train))\n",
    "    for i in range(num_test):\n",
    "        for j in range(num_train):\n",
    "            dists[i, j] = np.sqrt(np.sum((X[i] - self.X_train[j])**2))\n",
    "    return dists\n",
    "\n",
    "\n",
    "dists = knn_classifier.compute_distances_two_loops(binary_test_X)\n",
    "assert np.isclose(dists[0, 100], np.sum(np.abs(binary_test_X[0] - binary_train_X[100])))"
   ]
  },
  {
   "cell_type": "code",
   "execution_count": null,
   "id": "young-pulse",
   "metadata": {},
   "outputs": [],
   "source": [
    "def compute_distances_one_loop(self, X):\n",
    "    num_test = X.shape[0]\n",
    "    num_train = self.X_train.shape[0]\n",
    "    dists = np.zeros((num_test, num_train))\n",
    "    for i in range(num_test):\n",
    "        dists[i, :] = np.sqrt(np.sum((X[i] - self.X_train)**2, axis=1))\n",
    "    return dists\n",
    "\n",
    "\n",
    "dists = knn_classifier.compute_distances_one_loop(binary_test_X)\n",
    "assert np.isclose(dists[0, 100], np.sum(np.abs(binary_test_X[0] - binary_train_X[100])))"
   ]
  },
  {
   "cell_type": "code",
   "execution_count": null,
   "id": "compatible-cache",
   "metadata": {},
   "outputs": [],
   "source": [
    "def compute_distances_no_loops(a, b):\n",
    "    P = np.add.outer(np.sum(a**2, axis=1), np.sum(b**2, axis=1))\n",
    "    N = np.dot(a, b.T)\n",
    "    return np.sqrt(P - 2*N)\n",
    "\n",
    "\n",
    "dists = knn_classifier.compute_distances_no_loops(binary_test_X)\n",
    "assert np.isclose(dists[0, 100], np.sum(np.abs(binary_test_X[0] - binary_train_X[100])))"
   ]
  },
  {
   "cell_type": "code",
   "execution_count": null,
   "id": "vertical-resident",
   "metadata": {},
   "outputs": [],
   "source": [
    "%timeit knn_classifier.compute_distances_two_loops(binary_test_X)\n",
    "%timeit knn_classifier.compute_distances_one_loop(binary_test_X)\n",
    "%timeit knn_classifier.compute_distances_no_loops(binary_test_X)"
   ]
  },
  {
   "cell_type": "code",
   "execution_count": null,
   "id": "improved-departure",
   "metadata": {},
   "outputs": [],
   "source": []
  }
 ],
 "metadata": {
  "kernelspec": {
   "display_name": "Python 3",
   "language": "python",
   "name": "python3"
  },
  "language_info": {
   "codemirror_mode": {
    "name": "ipython",
    "version": 3
   },
   "file_extension": ".py",
   "mimetype": "text/x-python",
   "name": "python",
   "nbconvert_exporter": "python",
   "pygments_lexer": "ipython3",
   "version": "3.8.5"
  }
 },
 "nbformat": 4,
 "nbformat_minor": 5
}
